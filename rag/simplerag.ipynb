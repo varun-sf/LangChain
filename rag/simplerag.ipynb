{
 "cells": [
  {
   "cell_type": "code",
   "execution_count": 1,
   "id": "27594920",
   "metadata": {},
   "outputs": [
    {
     "data": {
      "text/plain": [
       "[Document(metadata={'source': 'speech.txt'}, page_content=\"According to democratic theorists, a free and open debate will usually lead to the best option being considered and will be more likely to avoid serious mistakes.\\n\\nDemocracy depends upon a literate, knowledgeable citizenry whose access to information enables it to participate as fully as possible in the public life of their society and to criticize unwise or tyrannical government officials or policies. Citizens and their elected representatives recognize that democracy depends upon the widest possible access to uncensored ideas, data, and opinions.\\n\\nFor a free people to govern themselves, they must be free to express themselves -- openly, publicly, and repeatedly; in speech and in writing.\\n\\nThe principle of free speech should be protected by a democracy's constitution, preventing the legislative or executive branches of government from imposing censorship.\\n\\nThe protection of free speech is a so-called negative right, simply requiring that government refrain from limiting speech, unlike the direct action required of other so-called affirmative rights. For the most part, the authorities in a democracy are uninvolved in the content of written and verbal speech in the society.\\n\\nProtests serve as a testing ground for any democracy -- thus the right to peaceful assembly is essential and plays an integral part in facilitating the use of free speech. A civil society allows for spirited debate among those in deep disagreement over the issues.\")]"
      ]
     },
     "execution_count": 1,
     "metadata": {},
     "output_type": "execute_result"
    }
   ],
   "source": [
    "from langchain_community.document_loaders import TextLoader\n",
    "loader = TextLoader(\"speech.txt\")\n",
    "text_documents = loader.load()\n",
    "text_documents\n"
   ]
  },
  {
   "cell_type": "code",
   "execution_count": 3,
   "id": "55679e0a",
   "metadata": {},
   "outputs": [
    {
     "name": "stderr",
     "output_type": "stream",
     "text": [
      "USER_AGENT environment variable not set, consider setting it to identify your requests.\n"
     ]
    },
    {
     "data": {
      "text/plain": [
       "[Document(metadata={'source': 'https://lilianweng.github.io/posts/2023-06-23-agent/'}, page_content='\\n      LLM Powered Autonomous Agents\\n    ')]"
      ]
     },
     "execution_count": 3,
     "metadata": {},
     "output_type": "execute_result"
    }
   ],
   "source": [
    "from langchain_community.document_loaders import WebBaseLoader\n",
    "import bs4\n",
    "loader = WebBaseLoader(web_paths=(\"https://lilianweng.github.io/posts/2023-06-23-agent/\",),\n",
    "                       bs_kwargs=dict(parse_only=bs4.SoupStrainer(\n",
    "                           class_=(\"post-title\", \"post_content\", \"post_header\")\n",
    "                        )))\n",
    "text_documents = loader.load()\n",
    "text_documents\n"
   ]
  },
  {
   "cell_type": "code",
   "execution_count": 4,
   "id": "1f4cc61a",
   "metadata": {},
   "outputs": [
    {
     "data": {
      "text/plain": [
       "[Document(metadata={'producer': 'pdfTeX-1.40.26', 'creator': 'LaTeX with hyperref', 'creationdate': '2025-07-28T20:41:42+00:00', 'author': '', 'keywords': '', 'moddate': '2025-07-28T20:41:42+00:00', 'ptex.fullbanner': 'This is pdfTeX, Version 3.141592653-2.6-1.40.26 (TeX Live 2024) kpathsea version 6.4.0', 'subject': '', 'title': '', 'trapped': '/False', 'source': 'Varun_s_resume_23_07.pdf', 'total_pages': 1, 'page': 0, 'page_label': '1'}, page_content='VARUN REDDY VASA\\n♂phone+91 8247757527 /envel⌢pevarunreddyvasa@gmail.com /linkedinLinkedIn /githubGithub\\nEducation\\nSRM UNIVERSITY, KATTANKULATHUR 2017 - 2021\\nB.Tech in Computer Science & Engineering 81.11%\\nWork Experience\\nITC INFOTECH Aug 2024 – Present\\nSenior Developer Bengaluru\\nInternal tools and Applications of AB InBev - Nodejs, MSSQL, Reactjs, Azure, Azure devops\\n• Developed 25+ RESTful APIs for new STM application features, including email templates for all core\\nfunctionalities, enabling seamless integration across modules.\\n• Developed multiple UI pages, optimised components with hooks, ensuring reusability and maintainability\\n• Optimized backend performance by eliminating redundant database calls, introducing concurrency, and implementing\\npagination, achieving 5%–35% faster API responses.\\n• Fixed 30+ critical bugs and refactored codebase, improving maintainability and significantly reducing system defects.\\nINFOSYS LTD July 2021 – Aug 2024\\nSoftware developer Bengaluru\\nBusiness and Operations Management application for Airbus - FastAPI, Postgresql, React, AWS, Github\\n• Created 20+ API’s for new features of the application, resolved bugs, and ensured a stable application by writing\\ntestcases using testclient.\\n• Developed sophisiticated frontend pages using React and in house Bootstrap, adhering to Figma designs\\n• Refactored existing monolithic codebase into modular packages, improving readability, maintainability, and\\nscalability.\\nChatbots and Automation for Diebold Nixdorf and Johnsons control - Python, Pandas, Nodejs and OCI\\n• Designed, developed, and integrated Oracle Digital Assistant chatbots from scratch into web platforms via SDK and\\nMicrosoft Teams.\\n• Seamlessly integrated third party API’s of Oracle into chatbot ensuring smooth conversation between user &\\nchatbot.\\n• Extracted and processed 50k+ records from Oracle Field Service (OFS) and B2B REST APIs for reporting and\\nanalytics, which is scheduled in cron job for regular interval.\\n• Automated data uploads to OFSC and B2B, significantly reducing manual effort by 70% .\\nProjects\\nCode labs: An online platform to practice coding. Source Code\\n• A coding platform built using Python’s Django framework and Sqllite. Docker-ized for isolated environment\\nenhancing system security.\\n• Deployed in AWS EC2, enabled horizontal scaling with AWS AMI, ASG and ELB . Completed the platform\\nwithin 15 days\\n• Features include session based authentication, online compiler, practice code etc.\\nBlog API: A backend blogs API application. Source Code\\n• A blog API application built using Nodejs framework and MongoDB.\\n• Features include CRUD operations, has JWT based authentication and file uploading capability.\\nTechnical Skills\\nLanguages: Python, JavaScript, Java, C++, C Leetcode\\nBackend: FastAPI, Node.js, Express.js, Django\\nFrontend: React, HTML, CSS, Bootstrap\\nClouds & Databases: Azure Devops, AWS, MS SQL, PostgreSQL, MongoDB\\nWeb Technologies: Docker, Rest API\\nDeveloper Tools: Postman, VS Code, Git, Github\\nCertifications/Awards\\n• Infosys Insta award for excellent contribution to the project.\\n• Oracle certified Java SE-8 developer associate\\n• Generative AI landscape')]"
      ]
     },
     "execution_count": 4,
     "metadata": {},
     "output_type": "execute_result"
    }
   ],
   "source": [
    "\n",
    "from langchain_community.document_loaders import PyPDFLoader\n",
    "loader = PyPDFLoader(\"Varun_s_resume_23_07.pdf\")\n",
    "pdf_doc = loader.load()\n",
    "pdf_doc\n"
   ]
  },
  {
   "cell_type": "code",
   "execution_count": 5,
   "id": "bd670827",
   "metadata": {},
   "outputs": [
    {
     "data": {
      "text/plain": [
       "[Document(metadata={'producer': 'pdfTeX-1.40.26', 'creator': 'LaTeX with hyperref', 'creationdate': '2025-07-28T20:41:42+00:00', 'author': '', 'keywords': '', 'moddate': '2025-07-28T20:41:42+00:00', 'ptex.fullbanner': 'This is pdfTeX, Version 3.141592653-2.6-1.40.26 (TeX Live 2024) kpathsea version 6.4.0', 'subject': '', 'title': '', 'trapped': '/False', 'source': 'Varun_s_resume_23_07.pdf', 'total_pages': 1, 'page': 0, 'page_label': '1'}, page_content='VARUN REDDY VASA\\n♂phone+91 8247757527 /envel⌢pevarunreddyvasa@gmail.com /linkedinLinkedIn /githubGithub\\nEducation\\nSRM UNIVERSITY, KATTANKULATHUR 2017 - 2021\\nB.Tech in Computer Science & Engineering 81.11%\\nWork Experience\\nITC INFOTECH Aug 2024 – Present\\nSenior Developer Bengaluru\\nInternal tools and Applications of AB InBev - Nodejs, MSSQL, Reactjs, Azure, Azure devops\\n• Developed 25+ RESTful APIs for new STM application features, including email templates for all core\\nfunctionalities, enabling seamless integration across modules.\\n• Developed multiple UI pages, optimised components with hooks, ensuring reusability and maintainability\\n• Optimized backend performance by eliminating redundant database calls, introducing concurrency, and implementing\\npagination, achieving 5%–35% faster API responses.\\n• Fixed 30+ critical bugs and refactored codebase, improving maintainability and significantly reducing system defects.\\nINFOSYS LTD July 2021 – Aug 2024\\nSoftware developer Bengaluru'),\n",
       " Document(metadata={'producer': 'pdfTeX-1.40.26', 'creator': 'LaTeX with hyperref', 'creationdate': '2025-07-28T20:41:42+00:00', 'author': '', 'keywords': '', 'moddate': '2025-07-28T20:41:42+00:00', 'ptex.fullbanner': 'This is pdfTeX, Version 3.141592653-2.6-1.40.26 (TeX Live 2024) kpathsea version 6.4.0', 'subject': '', 'title': '', 'trapped': '/False', 'source': 'Varun_s_resume_23_07.pdf', 'total_pages': 1, 'page': 0, 'page_label': '1'}, page_content='• Fixed 30+ critical bugs and refactored codebase, improving maintainability and significantly reducing system defects.\\nINFOSYS LTD July 2021 – Aug 2024\\nSoftware developer Bengaluru\\nBusiness and Operations Management application for Airbus - FastAPI, Postgresql, React, AWS, Github\\n• Created 20+ API’s for new features of the application, resolved bugs, and ensured a stable application by writing\\ntestcases using testclient.\\n• Developed sophisiticated frontend pages using React and in house Bootstrap, adhering to Figma designs\\n• Refactored existing monolithic codebase into modular packages, improving readability, maintainability, and\\nscalability.\\nChatbots and Automation for Diebold Nixdorf and Johnsons control - Python, Pandas, Nodejs and OCI\\n• Designed, developed, and integrated Oracle Digital Assistant chatbots from scratch into web platforms via SDK and\\nMicrosoft Teams.\\n• Seamlessly integrated third party API’s of Oracle into chatbot ensuring smooth conversation between user &'),\n",
       " Document(metadata={'producer': 'pdfTeX-1.40.26', 'creator': 'LaTeX with hyperref', 'creationdate': '2025-07-28T20:41:42+00:00', 'author': '', 'keywords': '', 'moddate': '2025-07-28T20:41:42+00:00', 'ptex.fullbanner': 'This is pdfTeX, Version 3.141592653-2.6-1.40.26 (TeX Live 2024) kpathsea version 6.4.0', 'subject': '', 'title': '', 'trapped': '/False', 'source': 'Varun_s_resume_23_07.pdf', 'total_pages': 1, 'page': 0, 'page_label': '1'}, page_content='Microsoft Teams.\\n• Seamlessly integrated third party API’s of Oracle into chatbot ensuring smooth conversation between user &\\nchatbot.\\n• Extracted and processed 50k+ records from Oracle Field Service (OFS) and B2B REST APIs for reporting and\\nanalytics, which is scheduled in cron job for regular interval.\\n• Automated data uploads to OFSC and B2B, significantly reducing manual effort by 70% .\\nProjects\\nCode labs: An online platform to practice coding. Source Code\\n• A coding platform built using Python’s Django framework and Sqllite. Docker-ized for isolated environment\\nenhancing system security.\\n• Deployed in AWS EC2, enabled horizontal scaling with AWS AMI, ASG and ELB . Completed the platform\\nwithin 15 days\\n• Features include session based authentication, online compiler, practice code etc.\\nBlog API: A backend blogs API application. Source Code\\n• A blog API application built using Nodejs framework and MongoDB.'),\n",
       " Document(metadata={'producer': 'pdfTeX-1.40.26', 'creator': 'LaTeX with hyperref', 'creationdate': '2025-07-28T20:41:42+00:00', 'author': '', 'keywords': '', 'moddate': '2025-07-28T20:41:42+00:00', 'ptex.fullbanner': 'This is pdfTeX, Version 3.141592653-2.6-1.40.26 (TeX Live 2024) kpathsea version 6.4.0', 'subject': '', 'title': '', 'trapped': '/False', 'source': 'Varun_s_resume_23_07.pdf', 'total_pages': 1, 'page': 0, 'page_label': '1'}, page_content='Blog API: A backend blogs API application. Source Code\\n• A blog API application built using Nodejs framework and MongoDB.\\n• Features include CRUD operations, has JWT based authentication and file uploading capability.\\nTechnical Skills\\nLanguages: Python, JavaScript, Java, C++, C Leetcode\\nBackend: FastAPI, Node.js, Express.js, Django\\nFrontend: React, HTML, CSS, Bootstrap\\nClouds & Databases: Azure Devops, AWS, MS SQL, PostgreSQL, MongoDB\\nWeb Technologies: Docker, Rest API\\nDeveloper Tools: Postman, VS Code, Git, Github\\nCertifications/Awards\\n• Infosys Insta award for excellent contribution to the project.\\n• Oracle certified Java SE-8 developer associate\\n• Generative AI landscape')]"
      ]
     },
     "execution_count": 5,
     "metadata": {},
     "output_type": "execute_result"
    }
   ],
   "source": [
    "from langchain.text_splitter import RecursiveCharacterTextSplitter\n",
    "text_splitter = RecursiveCharacterTextSplitter(chunk_size=1000, chunk_overlap=200)\n",
    "documents = text_splitter.split_documents(pdf_doc)\n",
    "documents\n"
   ]
  },
  {
   "cell_type": "code",
   "execution_count": null,
   "id": "f14b8202",
   "metadata": {},
   "outputs": [
    {
     "name": "stderr",
     "output_type": "stream",
     "text": [
      "C:\\Users\\tilki\\AppData\\Local\\Temp\\ipykernel_26512\\3136264953.py:3: LangChainDeprecationWarning: The class `OllamaEmbeddings` was deprecated in LangChain 0.3.1 and will be removed in 1.0.0. An updated version of the class exists in the :class:`~langchain-ollama package and should be used instead. To use it run `pip install -U :class:`~langchain-ollama` and import as `from :class:`~langchain_ollama import OllamaEmbeddings``.\n",
      "  db = Chroma.from_documents(documents[:20], OllamaEmbeddings(model=\"llama3.2:1b\"))\n"
     ]
    }
   ],
   "source": [
    "\n",
    "from langchain_community.embeddings import OllamaEmbeddings\n",
    "from langchain_community.vectorstores import FAISS\n",
    "db = FAISS.from_documents(documents[:20], OllamaEmbeddings(model=\"llama3.2:1b\"))"
   ]
  },
  {
   "cell_type": "code",
   "execution_count": 8,
   "id": "96321cee",
   "metadata": {},
   "outputs": [
    {
     "data": {
      "text/plain": [
       "'Blog API: A backend blogs API application. Source Code\\n• A blog API application built using Nodejs framework and MongoDB.\\n• Features include CRUD operations, has JWT based authentication and file uploading capability.\\nTechnical Skills\\nLanguages: Python, JavaScript, Java, C++, C Leetcode\\nBackend: FastAPI, Node.js, Express.js, Django\\nFrontend: React, HTML, CSS, Bootstrap\\nClouds & Databases: Azure Devops, AWS, MS SQL, PostgreSQL, MongoDB\\nWeb Technologies: Docker, Rest API\\nDeveloper Tools: Postman, VS Code, Git, Github\\nCertifications/Awards\\n• Infosys Insta award for excellent contribution to the project.\\n• Oracle certified Java SE-8 developer associate\\n• Generative AI landscape'"
      ]
     },
     "execution_count": 8,
     "metadata": {},
     "output_type": "execute_result"
    }
   ],
   "source": [
    "query = \"Concurrency\"\n",
    "result = db.similarity_search(query, k=3)    \n",
    "result[0].page_content"
   ]
  },
  {
   "cell_type": "code",
   "execution_count": 9,
   "id": "0aa4e177",
   "metadata": {},
   "outputs": [
    {
     "name": "stderr",
     "output_type": "stream",
     "text": [
      "C:\\Users\\tilki\\AppData\\Local\\Temp\\ipykernel_26512\\676642843.py:2: LangChainDeprecationWarning: The class `Ollama` was deprecated in LangChain 0.3.1 and will be removed in 1.0.0. An updated version of the class exists in the :class:`~langchain-ollama package and should be used instead. To use it run `pip install -U :class:`~langchain-ollama` and import as `from :class:`~langchain_ollama import OllamaLLM``.\n",
      "  llm = Ollama(model=\"llama3.2:1b\")\n"
     ]
    }
   ],
   "source": [
    "from langchain_community.llms import Ollama\n",
    "llm = Ollama(model=\"llama3.2:1b\")"
   ]
  },
  {
   "cell_type": "code",
   "execution_count": 10,
   "id": "d2790347",
   "metadata": {},
   "outputs": [],
   "source": [
    "from langchain_core.prompts import ChatPromptTemplate\n",
    "chat_prompt = ChatPromptTemplate.from_template(\"\"\"Anserw the question based on the context below. <context>{context}</context> Question: {input}\"\"\")"
   ]
  },
  {
   "cell_type": "code",
   "execution_count": 12,
   "id": "a05f29ea",
   "metadata": {},
   "outputs": [],
   "source": [
    "from langchain.chains.combine_documents import create_stuff_documents_chain\n",
    "document_chain = create_stuff_documents_chain(llm, chat_prompt)\n"
   ]
  },
  {
   "cell_type": "code",
   "execution_count": 13,
   "id": "448ffb52",
   "metadata": {},
   "outputs": [],
   "source": [
    "retriever = db.as_retriever()"
   ]
  },
  {
   "cell_type": "code",
   "execution_count": 14,
   "id": "af85d8e6",
   "metadata": {},
   "outputs": [],
   "source": [
    "from langchain.chains import create_retrieval_chain\n",
    "retrieval_chain = create_retrieval_chain(retriever, document_chain)"
   ]
  },
  {
   "cell_type": "code",
   "execution_count": 17,
   "id": "0c791036",
   "metadata": {},
   "outputs": [],
   "source": [
    "response = retrieval_chain.invoke({\"input\": \"how many restful apis he developed in STM application\"})\n"
   ]
  },
  {
   "cell_type": "code",
   "execution_count": 18,
   "id": "1754c2e9",
   "metadata": {},
   "outputs": [
    {
     "data": {
      "text/plain": [
       "'Based on the text, Varun Reddy Vasa, the IT Development Manager at ITC Infotech, mentions that he developed 25+ RESTful APIs for new STM (Software Testing Methodology) application features. This implies that he created a significant number of RESTful APIs to support these new features.'"
      ]
     },
     "execution_count": 18,
     "metadata": {},
     "output_type": "execute_result"
    }
   ],
   "source": [
    "response['answer']"
   ]
  }
 ],
 "metadata": {
  "kernelspec": {
   "display_name": "venv",
   "language": "python",
   "name": "python3"
  },
  "language_info": {
   "codemirror_mode": {
    "name": "ipython",
    "version": 3
   },
   "file_extension": ".py",
   "mimetype": "text/x-python",
   "name": "python",
   "nbconvert_exporter": "python",
   "pygments_lexer": "ipython3",
   "version": "3.10.6"
  }
 },
 "nbformat": 4,
 "nbformat_minor": 5
}
